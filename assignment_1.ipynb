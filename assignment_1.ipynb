{
 "cells": [
  {
   "cell_type": "markdown",
   "metadata": {},
   "source": [
    "# Assigment 1\n",
    "\n",
    "## The assignment is divided into programming and mathematical questions. Both of them are given in this notebook.\n",
    "\n",
    "## Programming questions: I am giving you a template that you can use to write your code. Description of the questions is integrated in the comments.\n",
    "\n",
    "## Upload your code on Learn dropbox and submit pdfs of the code and answers to the mathematical questions on Crowdmark.\n",
    "\n",
    "## -----------------------------------------------------------------------------------------------------------\n",
    "\n",
    "## Programming Questions"
   ]
  },
  {
   "cell_type": "markdown",
   "metadata": {},
   "source": [
    "## Load modules"
   ]
  },
  {
   "cell_type": "code",
   "execution_count": null,
   "metadata": {},
   "outputs": [],
   "source": [
    "import matplotlib.pyplot as plt\n",
    "\n",
    "from skimage.color import rgb2gray\n",
    "from skimage import data\n",
    "from skimage.transform import resize\n",
    "\n",
    "# Numpy is useful for handling arrays and dense matrices (a matrix with a lot of nonzeros).\n",
    "import numpy as np"
   ]
  },
  {
   "cell_type": "markdown",
   "metadata": {},
   "source": [
    "## Load image"
   ]
  },
  {
   "cell_type": "code",
   "execution_count": null,
   "metadata": {},
   "outputs": [],
   "source": [
    "img = data.stereo_motorcycle()[0]\n",
    "img = rgb2gray(img)*255 # convert to gray and change scale from (0,1) to (0,255).\n",
    "\n",
    "m = img.shape[0]\n",
    "n = img.shape[1]\n",
    "\n",
    "plt.figure(1, figsize=(10, 10))\n",
    "plt.imshow(img, cmap='gray', vmin=0, vmax=255)\n",
    "plt.show()"
   ]
  },
  {
   "cell_type": "markdown",
   "metadata": {},
   "source": [
    "## Question 1: compute the differences operators here. Note that the image is not a square image. Marks: 10/100"
   ]
  },
  {
   "cell_type": "code",
   "execution_count": null,
   "metadata": {},
   "outputs": [],
   "source": [
    "# You will need these three methods to construct the sparse differences operators.\n",
    "# If you do not use sparse operators you might have memory problems.\n",
    "from scipy.sparse import diags\n",
    "from scipy.sparse import kron\n",
    "from scipy.sparse import identity\n",
    "\n",
    "# Start coding here.\n",
    "\n",
    "# Observation: \n",
    "# The operators must take (m*n)x(m*n) shape to be compatible with the dimension of vectorized image.\n",
    "# The J takes the #columns (n) as dimension, while the I takes #rows (m) as dimension\n",
    "\n",
    "J = diags(diagonals=[\n",
    "    [-1.0] * n,\n",
    "    [1.0] * (n-1)\n",
    "], offsets=[0, 1])\n",
    "\n",
    "I = identity(n=m)\n",
    "\n",
    "# Forward Horizontal Difference\n",
    "D_h = kron(J, I)\n",
    "\n",
    "# Forward Vertical Difference\n",
    "D_v = kron(I, J)"
   ]
  },
  {
   "cell_type": "markdown",
   "metadata": {},
   "source": [
    "## Question 2: visualize the differences operators applied on the image. Marks: 5/100"
   ]
  },
  {
   "cell_type": "code",
   "execution_count": null,
   "metadata": {},
   "outputs": [],
   "source": [
    "#Check the figures in the lecture notes on piazza to see an example of what the output should be like. \n",
    "\n",
    "# Start coding here.\n",
    "\n",
    "# vectorize the image, column wise\n",
    "img_vec = (img.T).ravel()\n",
    "\n",
    "# apply D_h to the vectorized image and reshape back to original size\n",
    "img_vec_h = D_h.dot(img_vec)\n",
    "img_vec_h = img_vec_h.reshape((m, n), order='F')\n",
    "\n",
    "# apply D_v to the vectorized image and reshape back to original size\n",
    "img_vec_v = D_v.dot(img_vec)\n",
    "img_vec_v = img_vec_v.reshape((m, n), order='F')\n",
    "\n",
    "plt.figure(1, figsize=(10, 10))\n",
    "plt.imshow(img_vec_h, cmap='gray', vmin=0, vmax=255)\n",
    "plt.show()\n",
    "\n",
    "plt.figure(1, figsize=(10, 10))\n",
    "plt.imshow(img_vec_v, cmap='gray', vmin=0, vmax=255)\n",
    "plt.show()"
   ]
  },
  {
   "cell_type": "markdown",
   "metadata": {},
   "source": [
    "## Add noise to the image"
   ]
  },
  {
   "cell_type": "code",
   "execution_count": null,
   "metadata": {},
   "outputs": [],
   "source": [
    "mean_ = 0\n",
    "standard_deviation = 30\n",
    "dimensions = (m,n)\n",
    "\n",
    "noise = np.random.normal(mean_,standard_deviation,dimensions)\n",
    "\n",
    "noisy_image = img + noise\n",
    "\n",
    "plt.figure(1, figsize=(10, 10))\n",
    "plt.imshow(noisy_image, cmap='gray', vmin=0, vmax=255)\n",
    "plt.show()"
   ]
  },
  {
   "cell_type": "markdown",
   "metadata": {},
   "source": [
    "## Quetion 3: Denoise the image. Marks: 20/100"
   ]
  },
  {
   "cell_type": "code",
   "execution_count": null,
   "metadata": {},
   "outputs": [],
   "source": [
    "# This method can be used to solve linear systems.\n",
    "from scipy.sparse.linalg import spsolve\n",
    "# This module can be used to convert arrays and matrices from complex to real.\n",
    "from scipy import real\n",
    "\n",
    "# Use the following lambda list to tune the denoising problem.\n",
    "lambda_list = [0.1, 3, 10]\n",
    "\n",
    "# Start coding here. Check figures in Lecture to see an example of what the output should be like.\n",
    "\n",
    "for lamb in lambda_list:\n",
    "    A = lamb * ((D_h.T).dot(D_h) + (D_v.T).dot(D_v)) + identity(D_h.shape[0])\n",
    "    b = (noisy_image.T).ravel()\n",
    "    denoised_image = spsolve(A=A, b=b)\n",
    "    denoised_image = denoised_image.reshape((m, n), order='F')\n",
    "    plt.figure(1, figsize=(10, 10))\n",
    "    plt.imshow(denoised_image, cmap='gray', vmin=0, vmax=255)\n",
    "    plt.show()"
   ]
  },
  {
   "cell_type": "markdown",
   "metadata": {},
   "source": [
    "# Non-programming questions"
   ]
  },
  {
   "cell_type": "markdown",
   "metadata": {},
   "source": [
    "## Question 4: compute the gradient of the denoising objective function $f(x) = \\frac{\\lambda}{2}\\|Dx\\|_2^2 + \\frac{1}{2}\\|x-z_{noisy}\\|_2^2$, where $x$ consists of $n$ coordinates. The gradient has already been given in the class and you are asked to analytically compute and show any steps for deriving the gradient. Marks: 20/100"
   ]
  },
  {
   "cell_type": "code",
   "execution_count": null,
   "metadata": {},
   "outputs": [],
   "source": []
  },
  {
   "cell_type": "markdown",
   "metadata": {},
   "source": [
    "## Question 5: compute the second derivative (Hessian matrix) of the denoising objective function $f(x) = \\frac{\\lambda}{2}\\|Dx\\|_2^2 + \\frac{1}{2}\\|x-z_{noisy}\\|_2^2$, where $x$ consists of $n$ coordinates. The Hessian matrix has already been given in the class and you are asked to analytically compute and show any steps for deriving the gradient. Marks: 10/100"
   ]
  },
  {
   "cell_type": "code",
   "execution_count": null,
   "metadata": {},
   "outputs": [],
   "source": []
  },
  {
   "cell_type": "markdown",
   "metadata": {},
   "source": [
    "## Question 6: prove that the denoising objective function $f(x) = \\frac{\\lambda}{2}\\|Dx\\|_2^2 + \\frac{1}{2}\\|x-z_{noisy}\\|_2^2$ is a convex function. Prove this without using the fact that the objective function is differentiable. Marks: 20/100"
   ]
  },
  {
   "cell_type": "code",
   "execution_count": null,
   "metadata": {},
   "outputs": [],
   "source": []
  },
  {
   "cell_type": "markdown",
   "metadata": {},
   "source": [
    "## Question 7: You are given a function $f$ that is twice differentiable and not necessarily convex. Explain why if a point $x$ that satisfies $\\nabla f(x) = 0$ is not necessarily a local minimizer of function $f$. Hint: use the Taylor expansion $f(y)=f(x) + \\nabla f(x)^T (y-x) + (y-x)^T \\nabla^2 f(x) (y-x) + \\mathcal{o}(\\|y-x\\|^2_2)$. Note that $\\mathcal{o}$ denotes the little-o notation and $\\mathcal{o}(\\|y-x\\|^2_2)$ can be intepreted as a function that goes to zero faster than $\\|y-x\\|^2_2$. Marks: 15/100"
   ]
  },
  {
   "cell_type": "code",
   "execution_count": null,
   "metadata": {},
   "outputs": [],
   "source": []
  },
  {
   "cell_type": "code",
   "execution_count": null,
   "metadata": {},
   "outputs": [],
   "source": []
  },
  {
   "cell_type": "code",
   "execution_count": null,
   "metadata": {},
   "outputs": [],
   "source": []
  },
  {
   "cell_type": "code",
   "execution_count": null,
   "metadata": {},
   "outputs": [],
   "source": []
  },
  {
   "cell_type": "code",
   "execution_count": null,
   "metadata": {},
   "outputs": [],
   "source": []
  },
  {
   "cell_type": "code",
   "execution_count": null,
   "metadata": {},
   "outputs": [],
   "source": []
  },
  {
   "cell_type": "code",
   "execution_count": null,
   "metadata": {},
   "outputs": [],
   "source": []
  },
  {
   "cell_type": "code",
   "execution_count": null,
   "metadata": {},
   "outputs": [],
   "source": []
  },
  {
   "cell_type": "code",
   "execution_count": null,
   "metadata": {},
   "outputs": [],
   "source": []
  },
  {
   "cell_type": "code",
   "execution_count": null,
   "metadata": {},
   "outputs": [],
   "source": []
  },
  {
   "cell_type": "code",
   "execution_count": null,
   "metadata": {},
   "outputs": [],
   "source": []
  },
  {
   "cell_type": "code",
   "execution_count": null,
   "metadata": {},
   "outputs": [],
   "source": []
  },
  {
   "cell_type": "code",
   "execution_count": null,
   "metadata": {},
   "outputs": [],
   "source": []
  },
  {
   "cell_type": "code",
   "execution_count": null,
   "metadata": {
    "scrolled": false
   },
   "outputs": [],
   "source": []
  },
  {
   "cell_type": "code",
   "execution_count": null,
   "metadata": {},
   "outputs": [],
   "source": []
  },
  {
   "cell_type": "code",
   "execution_count": null,
   "metadata": {
    "scrolled": false
   },
   "outputs": [],
   "source": []
  },
  {
   "cell_type": "code",
   "execution_count": null,
   "metadata": {},
   "outputs": [],
   "source": []
  },
  {
   "cell_type": "code",
   "execution_count": null,
   "metadata": {
    "scrolled": true
   },
   "outputs": [],
   "source": []
  },
  {
   "cell_type": "code",
   "execution_count": null,
   "metadata": {},
   "outputs": [],
   "source": []
  },
  {
   "cell_type": "code",
   "execution_count": null,
   "metadata": {
    "scrolled": true
   },
   "outputs": [],
   "source": []
  },
  {
   "cell_type": "code",
   "execution_count": null,
   "metadata": {},
   "outputs": [],
   "source": []
  },
  {
   "cell_type": "code",
   "execution_count": null,
   "metadata": {},
   "outputs": [],
   "source": []
  },
  {
   "cell_type": "code",
   "execution_count": null,
   "metadata": {},
   "outputs": [],
   "source": []
  },
  {
   "cell_type": "code",
   "execution_count": null,
   "metadata": {
    "scrolled": false
   },
   "outputs": [],
   "source": []
  },
  {
   "cell_type": "code",
   "execution_count": null,
   "metadata": {},
   "outputs": [],
   "source": []
  },
  {
   "cell_type": "code",
   "execution_count": null,
   "metadata": {},
   "outputs": [],
   "source": []
  },
  {
   "cell_type": "code",
   "execution_count": null,
   "metadata": {},
   "outputs": [],
   "source": []
  },
  {
   "cell_type": "code",
   "execution_count": null,
   "metadata": {},
   "outputs": [],
   "source": []
  },
  {
   "cell_type": "code",
   "execution_count": null,
   "metadata": {},
   "outputs": [],
   "source": []
  },
  {
   "cell_type": "code",
   "execution_count": null,
   "metadata": {},
   "outputs": [],
   "source": []
  }
 ],
 "metadata": {
  "kernelspec": {
   "display_name": "Python 3",
   "language": "python",
   "name": "python3"
  },
  "language_info": {
   "codemirror_mode": {
    "name": "ipython",
    "version": 3
   },
   "file_extension": ".py",
   "mimetype": "text/x-python",
   "name": "python",
   "nbconvert_exporter": "python",
   "pygments_lexer": "ipython3",
   "version": "3.7.4"
  }
 },
 "nbformat": 4,
 "nbformat_minor": 2
}
